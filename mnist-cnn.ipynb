{
 "cells": [
  {
   "cell_type": "code",
   "execution_count": 1,
   "id": "a9c149cd",
   "metadata": {
    "_cell_guid": "8143ed25-a573-42cb-9a8d-3f93b5369a62",
    "_uuid": "eb237c5e-f34f-4c82-aaed-44866ed7e962",
    "collapsed": false,
    "execution": {
     "iopub.execute_input": "2024-11-30T09:29:56.016228Z",
     "iopub.status.busy": "2024-11-30T09:29:56.015386Z",
     "iopub.status.idle": "2024-11-30T09:29:56.752475Z",
     "shell.execute_reply": "2024-11-30T09:29:56.751637Z"
    },
    "jupyter": {
     "outputs_hidden": false
    },
    "papermill": {
     "duration": 0.745635,
     "end_time": "2024-11-30T09:29:56.754396",
     "exception": false,
     "start_time": "2024-11-30T09:29:56.008761",
     "status": "completed"
    },
    "tags": []
   },
   "outputs": [
    {
     "name": "stdout",
     "output_type": "stream",
     "text": [
      "/kaggle/input/mnist-dataset/train-images.idx3-ubyte\n",
      "/kaggle/input/mnist-dataset/t10k-labels.idx1-ubyte\n",
      "/kaggle/input/mnist-dataset/t10k-images.idx3-ubyte\n",
      "/kaggle/input/mnist-dataset/train-labels.idx1-ubyte\n",
      "/kaggle/input/mnist-dataset/t10k-labels-idx1-ubyte/t10k-labels-idx1-ubyte\n",
      "/kaggle/input/mnist-dataset/t10k-images-idx3-ubyte/t10k-images-idx3-ubyte\n",
      "/kaggle/input/mnist-dataset/train-labels-idx1-ubyte/train-labels-idx1-ubyte\n",
      "/kaggle/input/mnist-dataset/train-images-idx3-ubyte/train-images-idx3-ubyte\n"
     ]
    }
   ],
   "source": [
    "# This Python 3 environment comes with many helpful analytics libraries installed\n",
    "# It is defined by the kaggle/python Docker image: https://github.com/kaggle/docker-python\n",
    "# For example, here's several helpful packages to load\n",
    "\n",
    "import numpy as np # linear algebra\n",
    "import pandas as pd # data processing, CSV file I/O (e.g. pd.read_csv)\n",
    "\n",
    "# Input data files are available in the read-only \"../input/\" directory\n",
    "# For example, running this (by clicking run or pressing Shift+Enter) will list all files under the input directory\n",
    "\n",
    "import os\n",
    "for dirname, _, filenames in os.walk('/kaggle/input'):\n",
    "    for filename in filenames:\n",
    "        print(os.path.join(dirname, filename))\n",
    "\n",
    "# You can write up to 20GB to the current directory (/kaggle/working/) that gets preserved as output when you create a version using \"Save & Run All\" \n",
    "# You can also write temporary files to /kaggle/temp/, but they won't be saved outside of the current session"
   ]
  },
  {
   "cell_type": "markdown",
   "id": "d1450580",
   "metadata": {
    "_cell_guid": "e659e89e-3f82-470f-bace-477290c6905c",
    "_uuid": "c652e66f-106c-46bb-9333-ad98a02a5f83",
    "collapsed": false,
    "jupyter": {
     "outputs_hidden": false
    },
    "papermill": {
     "duration": 0.004686,
     "end_time": "2024-11-30T09:29:56.764318",
     "exception": false,
     "start_time": "2024-11-30T09:29:56.759632",
     "status": "completed"
    },
    "tags": []
   },
   "source": [
    "# Libraries to be used"
   ]
  },
  {
   "cell_type": "code",
   "execution_count": 2,
   "id": "2efc653c",
   "metadata": {
    "_cell_guid": "c2163622-910f-42fb-9a22-de0fb4316bc5",
    "_uuid": "dc2db318-9e86-4895-a387-975e20722fe2",
    "collapsed": false,
    "execution": {
     "iopub.execute_input": "2024-11-30T09:29:56.775173Z",
     "iopub.status.busy": "2024-11-30T09:29:56.774815Z",
     "iopub.status.idle": "2024-11-30T09:30:08.459439Z",
     "shell.execute_reply": "2024-11-30T09:30:08.458738Z"
    },
    "jupyter": {
     "outputs_hidden": false
    },
    "papermill": {
     "duration": 11.692425,
     "end_time": "2024-11-30T09:30:08.461471",
     "exception": false,
     "start_time": "2024-11-30T09:29:56.769046",
     "status": "completed"
    },
    "tags": []
   },
   "outputs": [],
   "source": [
    "import tensorflow as tf\n",
    "from keras.datasets import mnist\n",
    "from tensorflow.keras.models import Sequential\n",
    "from tensorflow.keras.layers import Conv2D, MaxPooling2D, Flatten, Dense, Dropout\n",
    "from tensorflow.keras.utils import to_categorical\n",
    "import matplotlib.pyplot as plt"
   ]
  },
  {
   "cell_type": "code",
   "execution_count": 3,
   "id": "3b29eb0b",
   "metadata": {
    "_cell_guid": "6341d43d-a3ae-4555-85bb-e1d244cc2f18",
    "_uuid": "e1588cc2-2339-4359-b0f9-1bd1dc5c739a",
    "collapsed": false,
    "execution": {
     "iopub.execute_input": "2024-11-30T09:30:08.473052Z",
     "iopub.status.busy": "2024-11-30T09:30:08.472524Z",
     "iopub.status.idle": "2024-11-30T09:30:09.483125Z",
     "shell.execute_reply": "2024-11-30T09:30:09.482194Z"
    },
    "jupyter": {
     "outputs_hidden": false
    },
    "papermill": {
     "duration": 1.018306,
     "end_time": "2024-11-30T09:30:09.485102",
     "exception": false,
     "start_time": "2024-11-30T09:30:08.466796",
     "status": "completed"
    },
    "tags": []
   },
   "outputs": [],
   "source": [
    "from sklearn.model_selection import train_test_split"
   ]
  },
  {
   "cell_type": "markdown",
   "id": "44f5495c",
   "metadata": {
    "_cell_guid": "4d6a6fd5-7159-46f2-9475-b0003c2a4877",
    "_uuid": "e7e9dd33-5871-4320-8ad9-b7f40ab35e23",
    "collapsed": false,
    "jupyter": {
     "outputs_hidden": false
    },
    "papermill": {
     "duration": 0.005008,
     "end_time": "2024-11-30T09:30:09.495154",
     "exception": false,
     "start_time": "2024-11-30T09:30:09.490146",
     "status": "completed"
    },
    "tags": []
   },
   "source": [
    "# Load Data"
   ]
  },
  {
   "cell_type": "code",
   "execution_count": 4,
   "id": "3fb50648",
   "metadata": {
    "_cell_guid": "b0fd4805-bb5b-4e93-871f-4affd6c8ff82",
    "_uuid": "a27a08c6-e540-4a0b-8ab0-543765ff29a3",
    "collapsed": false,
    "execution": {
     "iopub.execute_input": "2024-11-30T09:30:09.505868Z",
     "iopub.status.busy": "2024-11-30T09:30:09.505396Z",
     "iopub.status.idle": "2024-11-30T09:30:11.986971Z",
     "shell.execute_reply": "2024-11-30T09:30:11.986261Z"
    },
    "jupyter": {
     "outputs_hidden": false
    },
    "papermill": {
     "duration": 2.489142,
     "end_time": "2024-11-30T09:30:11.989099",
     "exception": false,
     "start_time": "2024-11-30T09:30:09.499957",
     "status": "completed"
    },
    "tags": []
   },
   "outputs": [
    {
     "name": "stdout",
     "output_type": "stream",
     "text": [
      "Downloading data from https://storage.googleapis.com/tensorflow/tf-keras-datasets/mnist.npz\n",
      "\u001b[1m11490434/11490434\u001b[0m \u001b[32m━━━━━━━━━━━━━━━━━━━━\u001b[0m\u001b[37m\u001b[0m \u001b[1m1s\u001b[0m 0us/step\n"
     ]
    }
   ],
   "source": [
    "(train_images, train_labels), (test_images, test_labels) = mnist.load_data()\n",
    "train_images, test_images = train_images / 255.0, test_images / 255.0\n",
    "# normalising the dimensions of images to increase the performance of cnn"
   ]
  },
  {
   "cell_type": "code",
   "execution_count": 5,
   "id": "971f69d6",
   "metadata": {
    "_cell_guid": "f8165654-f18b-4075-9485-f0128cc03015",
    "_uuid": "7f61e417-c243-40bc-be9e-4aab34c6063f",
    "collapsed": false,
    "execution": {
     "iopub.execute_input": "2024-11-30T09:30:12.005742Z",
     "iopub.status.busy": "2024-11-30T09:30:12.005030Z",
     "iopub.status.idle": "2024-11-30T09:30:27.790035Z",
     "shell.execute_reply": "2024-11-30T09:30:27.788963Z"
    },
    "jupyter": {
     "outputs_hidden": false
    },
    "papermill": {
     "duration": 15.794375,
     "end_time": "2024-11-30T09:30:27.792300",
     "exception": false,
     "start_time": "2024-11-30T09:30:11.997925",
     "status": "completed"
    },
    "tags": []
   },
   "outputs": [],
   "source": [
    "# Load the MNIST dataset\n",
    "(train_images, train_labels), (test_images, test_labels) = mnist.load_data()\n",
    "\n",
    "# Normalize the images\n",
    "train_images, test_images = train_images / 255.0, test_images / 255.0\n",
    "\n",
    "# Use only 60% of the dataset\n",
    "train_images, train_labels = train_images[:int(0.1 * len(train_images))], train_labels[:int(0.1 * len(train_labels))]\n",
    "\n",
    "# Convert images to 3-channel (RGB) and resize to 224x224 for VGG16\n",
    "def preprocess_images(images):\n",
    "    images = tf.expand_dims(images, axis=-1)  # Add channel dimension\n",
    "    images = tf.image.grayscale_to_rgb(images)  # Convert to RGB\n",
    "    images = tf.image.resize(images, [224, 224])  # Resize to 224x224\n",
    "    return images.numpy()\n",
    "\n",
    "train_images = preprocess_images(train_images)\n",
    "test_images = preprocess_images(test_images)\n",
    "\n",
    "# Convert labels to one-hot encoding\n",
    "train_labels = to_categorical(train_labels, num_classes=10)\n",
    "test_labels = to_categorical(test_labels, num_classes=10)\n",
    "\n",
    "# Split train data into train and validation sets (80-20 split of 60% dataset)\n",
    "X_train, X_val, y_train, y_val = train_test_split(train_images, train_labels, test_size=0.2, random_state=42)"
   ]
  },
  {
   "cell_type": "code",
   "execution_count": 6,
   "id": "dcd5042c",
   "metadata": {
    "_cell_guid": "732037e6-b3bc-4597-ab1d-5d869c392bdb",
    "_uuid": "abf7d8a0-293a-41c4-8d0f-518c48150da7",
    "collapsed": false,
    "execution": {
     "iopub.execute_input": "2024-11-30T09:30:27.806226Z",
     "iopub.status.busy": "2024-11-30T09:30:27.805914Z",
     "iopub.status.idle": "2024-11-30T09:30:27.810097Z",
     "shell.execute_reply": "2024-11-30T09:30:27.809343Z"
    },
    "jupyter": {
     "outputs_hidden": false
    },
    "papermill": {
     "duration": 0.012902,
     "end_time": "2024-11-30T09:30:27.811811",
     "exception": false,
     "start_time": "2024-11-30T09:30:27.798909",
     "status": "completed"
    },
    "tags": []
   },
   "outputs": [],
   "source": [
    "random_index = np.random.randint(0,len(train_images))\n",
    "random_image = train_images[random_index]\n",
    "random_label = train_labels[random_index]"
   ]
  },
  {
   "cell_type": "code",
   "execution_count": 7,
   "id": "29a8c426",
   "metadata": {
    "_cell_guid": "dcc93257-7435-4942-bec7-b903d749ba89",
    "_uuid": "146a103d-54e4-4657-9ed1-91a503ca0385",
    "collapsed": false,
    "execution": {
     "iopub.execute_input": "2024-11-30T09:30:27.824596Z",
     "iopub.status.busy": "2024-11-30T09:30:27.824337Z",
     "iopub.status.idle": "2024-11-30T09:30:27.975271Z",
     "shell.execute_reply": "2024-11-30T09:30:27.974029Z"
    },
    "jupyter": {
     "outputs_hidden": false
    },
    "papermill": {
     "duration": 0.161776,
     "end_time": "2024-11-30T09:30:27.979474",
     "exception": false,
     "start_time": "2024-11-30T09:30:27.817698",
     "status": "completed"
    },
    "tags": []
   },
   "outputs": [
    {
     "data": {
      "image/png": "[encoded data removed]",
      "text/plain": [
       "<Figure size 640x480 with 1 Axes>"
      ]
     },
     "metadata": {},
     "output_type": "display_data"
    }
   ],
   "source": [
    "random_index = np.random.randint(0, len(train_images))\n",
    "random_image = train_images[random_index]\n",
    "random_label = train_labels[random_index]\n",
    "\n",
    "plt.imshow(random_image, cmap='gray')  # Use 'gray' for MNIST images\n",
    "plt.axis('off')\n",
    "plt.title(np.argmax(random_label))  # Convert one-hot label back to a class index\n",
    "plt.show()"
   ]
  },
  {
   "cell_type": "code",
   "execution_count": 8,
   "id": "3c4f2f41",
   "metadata": {
    "_cell_guid": "b14d9b7d-2152-4fa3-ae59-d21825d90fd9",
    "_uuid": "1197baeb-9404-4280-a962-3cd45aa65e01",
    "collapsed": false,
    "execution": {
     "iopub.execute_input": "2024-11-30T09:30:28.005528Z",
     "iopub.status.busy": "2024-11-30T09:30:28.004836Z",
     "iopub.status.idle": "2024-11-30T09:30:28.009830Z",
     "shell.execute_reply": "2024-11-30T09:30:28.009111Z"
    },
    "jupyter": {
     "outputs_hidden": false
    },
    "papermill": {
     "duration": 0.014102,
     "end_time": "2024-11-30T09:30:28.011527",
     "exception": false,
     "start_time": "2024-11-30T09:30:27.997425",
     "status": "completed"
    },
    "tags": []
   },
   "outputs": [
    {
     "data": {
      "text/plain": [
       "(224, 224, 3)"
      ]
     },
     "execution_count": 8,
     "metadata": {},
     "output_type": "execute_result"
    }
   ],
   "source": [
    "random_image.shape"
   ]
  },
  {
   "cell_type": "code",
   "execution_count": 9,
   "id": "767a7183",
   "metadata": {
    "_cell_guid": "a9389513-112c-4e60-89e1-6cc250ae0818",
    "_uuid": "d2ce03f2-3e22-4c41-a659-aaa6fa39bb9d",
    "collapsed": false,
    "execution": {
     "iopub.execute_input": "2024-11-30T09:30:28.025129Z",
     "iopub.status.busy": "2024-11-30T09:30:28.024871Z",
     "iopub.status.idle": "2024-11-30T09:30:28.029840Z",
     "shell.execute_reply": "2024-11-30T09:30:28.029040Z"
    },
    "jupyter": {
     "outputs_hidden": false
    },
    "papermill": {
     "duration": 0.013376,
     "end_time": "2024-11-30T09:30:28.031367",
     "exception": false,
     "start_time": "2024-11-30T09:30:28.017991",
     "status": "completed"
    },
    "tags": []
   },
   "outputs": [
    {
     "data": {
      "text/plain": [
       "'[0, 1, 2, 3, 4, 5, 6, 7, 8, 9]'"
      ]
     },
     "execution_count": 9,
     "metadata": {},
     "output_type": "execute_result"
    }
   ],
   "source": [
    "labels = str(list(range(0,10)))\n",
    "labels"
   ]
  },
  {
   "cell_type": "code",
   "execution_count": 10,
   "id": "bc2e7a88",
   "metadata": {
    "_cell_guid": "3e1ff8fb-d5a3-4e43-8981-2f21641c59f3",
    "_uuid": "1f458e08-a9b0-4f47-bfe5-503c181a281d",
    "collapsed": false,
    "execution": {
     "iopub.execute_input": "2024-11-30T09:30:28.045544Z",
     "iopub.status.busy": "2024-11-30T09:30:28.045280Z",
     "iopub.status.idle": "2024-11-30T09:30:28.051518Z",
     "shell.execute_reply": "2024-11-30T09:30:28.050854Z"
    },
    "jupyter": {
     "outputs_hidden": false
    },
    "papermill": {
     "duration": 0.015547,
     "end_time": "2024-11-30T09:30:28.053112",
     "exception": false,
     "start_time": "2024-11-30T09:30:28.037565",
     "status": "completed"
    },
    "tags": []
   },
   "outputs": [],
   "source": [
    "num_samples = 12\n",
    "random_indices = np.random.choice(train_images.shape[0], num_samples, replace=False)\n",
    "sample_images = train_images[random_indices]\n",
    "sample_labels = train_labels[random_indices]"
   ]
  },
  {
   "cell_type": "code",
   "execution_count": 11,
   "id": "e25ce3b7",
   "metadata": {
    "_cell_guid": "821ab2ea-5eb7-4399-a889-d00281ac8021",
    "_uuid": "c13cedce-8c46-474a-8e07-1d0eca9fd710",
    "collapsed": false,
    "execution": {
     "iopub.execute_input": "2024-11-30T09:30:28.069022Z",
     "iopub.status.busy": "2024-11-30T09:30:28.068718Z",
     "iopub.status.idle": "2024-11-30T09:30:28.076855Z",
     "shell.execute_reply": "2024-11-30T09:30:28.076173Z"
    },
    "jupyter": {
     "outputs_hidden": false
    },
    "papermill": {
     "duration": 0.018053,
     "end_time": "2024-11-30T09:30:28.078622",
     "exception": false,
     "start_time": "2024-11-30T09:30:28.060569",
     "status": "completed"
    },
    "tags": []
   },
   "outputs": [],
   "source": [
    "train_labels = to_categorical(train_labels)\n",
    "test_labels = to_categorical(test_labels)"
   ]
  },
  {
   "cell_type": "code",
   "execution_count": 12,
   "id": "200ecccc",
   "metadata": {
    "_cell_guid": "0e3a7e93-97a0-4c63-937e-315689f6ceb1",
    "_uuid": "0987e15a-5eab-4d85-b5dd-3f647e8c5792",
    "collapsed": false,
    "execution": {
     "iopub.execute_input": "2024-11-30T09:30:28.094633Z",
     "iopub.status.busy": "2024-11-30T09:30:28.094320Z",
     "iopub.status.idle": "2024-11-30T09:30:31.684965Z",
     "shell.execute_reply": "2024-11-30T09:30:31.683850Z"
    },
    "jupyter": {
     "outputs_hidden": false
    },
    "papermill": {
     "duration": 3.602449,
     "end_time": "2024-11-30T09:30:31.688354",
     "exception": false,
     "start_time": "2024-11-30T09:30:28.085905",
     "status": "completed"
    },
    "tags": []
   },
   "outputs": [
    {
     "name": "stdout",
     "output_type": "stream",
     "text": [
      "Downloading data from https://storage.googleapis.com/tensorflow/keras-applications/vgg16/vgg16_weights_tf_dim_ordering_tf_kernels_notop.h5\n",
      "\u001b[1m58889256/58889256\u001b[0m \u001b[32m━━━━━━━━━━━━━━━━━━━━\u001b[0m\u001b[37m\u001b[0m \u001b[1m3s\u001b[0m 0us/step\n"
     ]
    }
   ],
   "source": [
    "from tensorflow.keras.applications import VGG16\n",
    "from tensorflow.keras.models import Model\n",
    "from tensorflow.keras.layers import Flatten, Dense, Dropout\n",
    "vgg_base = VGG16(weights='imagenet', include_top=False, input_shape=(224, 224, 3))\n",
    "\n",
    "# Freeze the VGG16 base layers\n",
    "for layer in vgg_base.layers:\n",
    "    layer.trainable = False\n",
    "\n",
    "# Add custom layers on top of VGG16\n",
    "x = Flatten()(vgg_base.output)\n",
    "x = Dense(128, activation='relu')(x)\n",
    "x = Dropout(0.5)(x)\n",
    "output = Dense(10, activation='softmax')(x)  # 10 classes for MNIST\n",
    "\n",
    "# Create final model\n",
    "model = Model(inputs=vgg_base.input, outputs=output)\n",
    "# Compile the model\n",
    "model.compile(optimizer='adam', loss='categorical_crossentropy', metrics=['accuracy'])"
   ]
  },
  {
   "cell_type": "code",
   "execution_count": 13,
   "id": "90fb4db0",
   "metadata": {
    "_cell_guid": "c074382e-2604-48ce-998f-0ade39cf85d6",
    "_uuid": "1c3c6f61-a452-40b0-9ad5-391ab5772ce2",
    "collapsed": false,
    "execution": {
     "iopub.execute_input": "2024-11-30T09:30:31.712611Z",
     "iopub.status.busy": "2024-11-30T09:30:31.712243Z",
     "iopub.status.idle": "2024-11-30T09:35:10.235450Z",
     "shell.execute_reply": "2024-11-30T09:35:10.234366Z"
    },
    "jupyter": {
     "outputs_hidden": false
    },
    "papermill": {
     "duration": 278.534994,
     "end_time": "2024-11-30T09:35:10.237719",
     "exception": false,
     "start_time": "2024-11-30T09:30:31.702725",
     "status": "completed"
    },
    "tags": []
   },
   "outputs": [
    {
     "name": "stdout",
     "output_type": "stream",
     "text": [
      "Epoch 1/10\n"
     ]
    },
    {
     "name": "stderr",
     "output_type": "stream",
     "text": [
      "WARNING: All log messages before absl::InitializeLog() is called are written to STDERR\n",
      "I0000 00:00:1732959039.961863      69 service.cc:145] XLA service 0x7f55ec0047e0 initialized for platform CUDA (this does not guarantee that XLA will be used). Devices:\n",
      "I0000 00:00:1732959039.961916      69 service.cc:153]   StreamExecutor device (0): Tesla T4, Compute Capability 7.5\n",
      "I0000 00:00:1732959039.961920      69 service.cc:153]   StreamExecutor device (1): Tesla T4, Compute Capability 7.5\n"
     ]
    },
    {
     "name": "stdout",
     "output_type": "stream",
     "text": [
      "\u001b[1m  1/150\u001b[0m \u001b[37m━━━━━━━━━━━━━━━━━━━━\u001b[0m \u001b[1m38:26\u001b[0m 15s/step - accuracy: 0.0938 - loss: 2.7987"
     ]
    },
    {
     "name": "stderr",
     "output_type": "stream",
     "text": [
      "I0000 00:00:1732959054.138882      69 device_compiler.h:188] Compiled cluster using XLA!  This line is logged at most once for the lifetime of the process.\n"
     ]
    },
    {
     "name": "stdout",
     "output_type": "stream",
     "text": [
      "\u001b[1m150/150\u001b[0m \u001b[32m━━━━━━━━━━━━━━━━━━━━\u001b[0m\u001b[37m\u001b[0m \u001b[1m48s\u001b[0m 217ms/step - accuracy: 0.3503 - loss: 1.9597 - val_accuracy: 0.9508 - val_loss: 0.4753\n",
      "Epoch 2/10\n",
      "\u001b[1m150/150\u001b[0m \u001b[32m━━━━━━━━━━━━━━━━━━━━\u001b[0m\u001b[37m\u001b[0m \u001b[1m23s\u001b[0m 151ms/step - accuracy: 0.5988 - loss: 0.9942 - val_accuracy: 0.9642 - val_loss: 0.2733\n",
      "Epoch 3/10\n",
      "\u001b[1m150/150\u001b[0m \u001b[32m━━━━━━━━━━━━━━━━━━━━\u001b[0m\u001b[37m\u001b[0m \u001b[1m24s\u001b[0m 157ms/step - accuracy: 0.6497 - loss: 0.8909 - val_accuracy: 0.9692 - val_loss: 0.1930\n",
      "Epoch 4/10\n",
      "\u001b[1m150/150\u001b[0m \u001b[32m━━━━━━━━━━━━━━━━━━━━\u001b[0m\u001b[37m\u001b[0m \u001b[1m25s\u001b[0m 166ms/step - accuracy: 0.6681 - loss: 0.8328 - val_accuracy: 0.9742 - val_loss: 0.1677\n",
      "Epoch 5/10\n",
      "\u001b[1m150/150\u001b[0m \u001b[32m━━━━━━━━━━━━━━━━━━━━\u001b[0m\u001b[37m\u001b[0m \u001b[1m26s\u001b[0m 175ms/step - accuracy: 0.6651 - loss: 0.7820 - val_accuracy: 0.9733 - val_loss: 0.1155\n",
      "Epoch 6/10\n",
      "\u001b[1m150/150\u001b[0m \u001b[32m━━━━━━━━━━━━━━━━━━━━\u001b[0m\u001b[37m\u001b[0m \u001b[1m25s\u001b[0m 166ms/step - accuracy: 0.6608 - loss: 0.7849 - val_accuracy: 0.9775 - val_loss: 0.1196\n",
      "Epoch 7/10\n",
      "\u001b[1m150/150\u001b[0m \u001b[32m━━━━━━━━━━━━━━━━━━━━\u001b[0m\u001b[37m\u001b[0m \u001b[1m25s\u001b[0m 166ms/step - accuracy: 0.6952 - loss: 0.7416 - val_accuracy: 0.9783 - val_loss: 0.0929\n",
      "Epoch 8/10\n",
      "\u001b[1m150/150\u001b[0m \u001b[32m━━━━━━━━━━━━━━━━━━━━\u001b[0m\u001b[37m\u001b[0m \u001b[1m25s\u001b[0m 170ms/step - accuracy: 0.6978 - loss: 0.7013 - val_accuracy: 0.9783 - val_loss: 0.0957\n",
      "Epoch 9/10\n",
      "\u001b[1m150/150\u001b[0m \u001b[32m━━━━━━━━━━━━━━━━━━━━\u001b[0m\u001b[37m\u001b[0m \u001b[1m25s\u001b[0m 169ms/step - accuracy: 0.6925 - loss: 0.7008 - val_accuracy: 0.9758 - val_loss: 0.0957\n",
      "Epoch 10/10\n",
      "\u001b[1m150/150\u001b[0m \u001b[32m━━━━━━━━━━━━━━━━━━━━\u001b[0m\u001b[37m\u001b[0m \u001b[1m25s\u001b[0m 168ms/step - accuracy: 0.7026 - loss: 0.7085 - val_accuracy: 0.9800 - val_loss: 0.0776\n"
     ]
    }
   ],
   "source": [
    "# Train the model without using ImageDataGenerator\n",
    "history = model.fit(\n",
    "    X_train, y_train,  # Directly use the training data\n",
    "    validation_data=(X_val, y_val),  # Directly use the validation data\n",
    "    epochs=10,\n",
    "    batch_size=32  # Set batch size here\n",
    ")"
   ]
  },
  {
   "cell_type": "code",
   "execution_count": 14,
   "id": "212da749",
   "metadata": {
    "_cell_guid": "a433442a-2783-47c1-9043-b2a8fa75c76e",
    "_uuid": "b51a1f39-a678-471d-ba56-154116343663",
    "collapsed": false,
    "execution": {
     "iopub.execute_input": "2024-11-30T09:35:10.442351Z",
     "iopub.status.busy": "2024-11-30T09:35:10.434604Z",
     "iopub.status.idle": "2024-11-30T09:35:10.448086Z",
     "shell.execute_reply": "2024-11-30T09:35:10.447419Z"
    },
    "jupyter": {
     "outputs_hidden": false
    },
    "papermill": {
     "duration": 0.13518,
     "end_time": "2024-11-30T09:35:10.449701",
     "exception": false,
     "start_time": "2024-11-30T09:35:10.314521",
     "status": "completed"
    },
    "tags": []
   },
   "outputs": [],
   "source": [
    "\n",
    "from tensorflow.keras.optimizers import Adagrad"
   ]
  },
  {
   "cell_type": "code",
   "execution_count": 15,
   "id": "33cd63fc",
   "metadata": {
    "_cell_guid": "5696754f-b64c-4ff8-95b9-4d0bfe7682ec",
    "_uuid": "6bca3d0b-b671-45c1-96f7-0fd529e43832",
    "collapsed": false,
    "execution": {
     "iopub.execute_input": "2024-11-30T09:35:10.601685Z",
     "iopub.status.busy": "2024-11-30T09:35:10.601371Z",
     "iopub.status.idle": "2024-11-30T09:35:10.611024Z",
     "shell.execute_reply": "2024-11-30T09:35:10.610293Z"
    },
    "jupyter": {
     "outputs_hidden": false
    },
    "papermill": {
     "duration": 0.086826,
     "end_time": "2024-11-30T09:35:10.612686",
     "exception": false,
     "start_time": "2024-11-30T09:35:10.525860",
     "status": "completed"
    },
    "tags": []
   },
   "outputs": [],
   "source": [
    "# Modeling\n",
    "model.compile(optimizer='Adagrad', loss='categorical_crossentropy', metrics=['accuracy'])"
   ]
  },
  {
   "cell_type": "markdown",
   "id": "0efef1b4",
   "metadata": {
    "_cell_guid": "c836a438-a9f9-4f38-b989-e9a99d31e153",
    "_uuid": "310c11e1-d8c8-442d-843c-c33bb1848443",
    "collapsed": false,
    "jupyter": {
     "outputs_hidden": false
    },
    "papermill": {
     "duration": 0.076953,
     "end_time": "2024-11-30T09:35:10.764312",
     "exception": false,
     "start_time": "2024-11-30T09:35:10.687359",
     "status": "completed"
    },
    "tags": []
   },
   "source": []
  },
  {
   "cell_type": "code",
   "execution_count": 16,
   "id": "67dd7281",
   "metadata": {
    "_cell_guid": "d4a6c3b1-7cf5-4a52-aca4-e2d3f09ae200",
    "_uuid": "1b6bb688-e832-4cd3-b5ee-0db217389336",
    "collapsed": false,
    "execution": {
     "iopub.execute_input": "2024-11-30T09:35:10.918342Z",
     "iopub.status.busy": "2024-11-30T09:35:10.917977Z",
     "iopub.status.idle": "2024-11-30T09:35:10.946765Z",
     "shell.execute_reply": "2024-11-30T09:35:10.946056Z"
    },
    "jupyter": {
     "outputs_hidden": false
    },
    "papermill": {
     "duration": 0.108883,
     "end_time": "2024-11-30T09:35:10.948323",
     "exception": false,
     "start_time": "2024-11-30T09:35:10.839440",
     "status": "completed"
    },
    "tags": []
   },
   "outputs": [
    {
     "data": {
      "text/html": [
       "<pre style=\"white-space:pre;overflow-x:auto;line-height:normal;font-family:Menlo,'DejaVu Sans Mono',consolas,'Courier New',monospace\"><span style=\"font-weight: bold\">Model: \"functional_1\"</span>\n",
       "</pre>\n"
      ],
      "text/plain": [
       "\u001b[1mModel: \"functional_1\"\u001b[0m\n"
      ]
     },
     "metadata": {},
     "output_type": "display_data"
    },
    {
     "data": {
      "text/html": [
       "<pre style=\"white-space:pre;overflow-x:auto;line-height:normal;font-family:Menlo,'DejaVu Sans Mono',consolas,'Courier New',monospace\">┏━━━━━━━━━━━━━━━━━━━━━━━━━━━━━━━━━┳━━━━━━━━━━━━━━━━━━━━━━━━┳━━━━━━━━━━━━━━━┓\n",
       "┃<span style=\"font-weight: bold\"> Layer (type)                    </span>┃<span style=\"font-weight: bold\"> Output Shape           </span>┃<span style=\"font-weight: bold\">       Param # </span>┃\n",
       "┡━━━━━━━━━━━━━━━━━━━━━━━━━━━━━━━━━╇━━━━━━━━━━━━━━━━━━━━━━━━╇━━━━━━━━━━━━━━━┩\n",
       "│ input_layer (<span style=\"color: #0087ff; text-decoration-color: #0087ff\">InputLayer</span>)        │ (<span style=\"color: #00d7ff; text-decoration-color: #00d7ff\">None</span>, <span style=\"color: #00af00; text-decoration-color: #00af00\">224</span>, <span style=\"color: #00af00; text-decoration-color: #00af00\">224</span>, <span style=\"color: #00af00; text-decoration-color: #00af00\">3</span>)    │             <span style=\"color: #00af00; text-decoration-color: #00af00\">0</span> │\n",
       "├─────────────────────────────────┼────────────────────────┼───────────────┤\n",
       "│ block1_conv1 (<span style=\"color: #0087ff; text-decoration-color: #0087ff\">Conv2D</span>)           │ (<span style=\"color: #00d7ff; text-decoration-color: #00d7ff\">None</span>, <span style=\"color: #00af00; text-decoration-color: #00af00\">224</span>, <span style=\"color: #00af00; text-decoration-color: #00af00\">224</span>, <span style=\"color: #00af00; text-decoration-color: #00af00\">64</span>)   │         <span style=\"color: #00af00; text-decoration-color: #00af00\">1,792</span> │\n",
       "├─────────────────────────────────┼────────────────────────┼───────────────┤\n",
       "│ block1_conv2 (<span style=\"color: #0087ff; text-decoration-color: #0087ff\">Conv2D</span>)           │ (<span style=\"color: #00d7ff; text-decoration-color: #00d7ff\">None</span>, <span style=\"color: #00af00; text-decoration-color: #00af00\">224</span>, <span style=\"color: #00af00; text-decoration-color: #00af00\">224</span>, <span style=\"color: #00af00; text-decoration-color: #00af00\">64</span>)   │        <span style=\"color: #00af00; text-decoration-color: #00af00\">36,928</span> │\n",
       "├─────────────────────────────────┼────────────────────────┼───────────────┤\n",
       "│ block1_pool (<span style=\"color: #0087ff; text-decoration-color: #0087ff\">MaxPooling2D</span>)      │ (<span style=\"color: #00d7ff; text-decoration-color: #00d7ff\">None</span>, <span style=\"color: #00af00; text-decoration-color: #00af00\">112</span>, <span style=\"color: #00af00; text-decoration-color: #00af00\">112</span>, <span style=\"color: #00af00; text-decoration-color: #00af00\">64</span>)   │             <span style=\"color: #00af00; text-decoration-color: #00af00\">0</span> │\n",
       "├─────────────────────────────────┼────────────────────────┼───────────────┤\n",
       "│ block2_conv1 (<span style=\"color: #0087ff; text-decoration-color: #0087ff\">Conv2D</span>)           │ (<span style=\"color: #00d7ff; text-decoration-color: #00d7ff\">None</span>, <span style=\"color: #00af00; text-decoration-color: #00af00\">112</span>, <span style=\"color: #00af00; text-decoration-color: #00af00\">112</span>, <span style=\"color: #00af00; text-decoration-color: #00af00\">128</span>)  │        <span style=\"color: #00af00; text-decoration-color: #00af00\">73,856</span> │\n",
       "├─────────────────────────────────┼────────────────────────┼───────────────┤\n",
       "│ block2_conv2 (<span style=\"color: #0087ff; text-decoration-color: #0087ff\">Conv2D</span>)           │ (<span style=\"color: #00d7ff; text-decoration-color: #00d7ff\">None</span>, <span style=\"color: #00af00; text-decoration-color: #00af00\">112</span>, <span style=\"color: #00af00; text-decoration-color: #00af00\">112</span>, <span style=\"color: #00af00; text-decoration-color: #00af00\">128</span>)  │       <span style=\"color: #00af00; text-decoration-color: #00af00\">147,584</span> │\n",
       "├─────────────────────────────────┼────────────────────────┼───────────────┤\n",
       "│ block2_pool (<span style=\"color: #0087ff; text-decoration-color: #0087ff\">MaxPooling2D</span>)      │ (<span style=\"color: #00d7ff; text-decoration-color: #00d7ff\">None</span>, <span style=\"color: #00af00; text-decoration-color: #00af00\">56</span>, <span style=\"color: #00af00; text-decoration-color: #00af00\">56</span>, <span style=\"color: #00af00; text-decoration-color: #00af00\">128</span>)    │             <span style=\"color: #00af00; text-decoration-color: #00af00\">0</span> │\n",
       "├─────────────────────────────────┼────────────────────────┼───────────────┤\n",
       "│ block3_conv1 (<span style=\"color: #0087ff; text-decoration-color: #0087ff\">Conv2D</span>)           │ (<span style=\"color: #00d7ff; text-decoration-color: #00d7ff\">None</span>, <span style=\"color: #00af00; text-decoration-color: #00af00\">56</span>, <span style=\"color: #00af00; text-decoration-color: #00af00\">56</span>, <span style=\"color: #00af00; text-decoration-color: #00af00\">256</span>)    │       <span style=\"color: #00af00; text-decoration-color: #00af00\">295,168</span> │\n",
       "├─────────────────────────────────┼────────────────────────┼───────────────┤\n",
       "│ block3_conv2 (<span style=\"color: #0087ff; text-decoration-color: #0087ff\">Conv2D</span>)           │ (<span style=\"color: #00d7ff; text-decoration-color: #00d7ff\">None</span>, <span style=\"color: #00af00; text-decoration-color: #00af00\">56</span>, <span style=\"color: #00af00; text-decoration-color: #00af00\">56</span>, <span style=\"color: #00af00; text-decoration-color: #00af00\">256</span>)    │       <span style=\"color: #00af00; text-decoration-color: #00af00\">590,080</span> │\n",
       "├─────────────────────────────────┼────────────────────────┼───────────────┤\n",
       "│ block3_conv3 (<span style=\"color: #0087ff; text-decoration-color: #0087ff\">Conv2D</span>)           │ (<span style=\"color: #00d7ff; text-decoration-color: #00d7ff\">None</span>, <span style=\"color: #00af00; text-decoration-color: #00af00\">56</span>, <span style=\"color: #00af00; text-decoration-color: #00af00\">56</span>, <span style=\"color: #00af00; text-decoration-color: #00af00\">256</span>)    │       <span style=\"color: #00af00; text-decoration-color: #00af00\">590,080</span> │\n",
       "├─────────────────────────────────┼────────────────────────┼───────────────┤\n",
       "│ block3_pool (<span style=\"color: #0087ff; text-decoration-color: #0087ff\">MaxPooling2D</span>)      │ (<span style=\"color: #00d7ff; text-decoration-color: #00d7ff\">None</span>, <span style=\"color: #00af00; text-decoration-color: #00af00\">28</span>, <span style=\"color: #00af00; text-decoration-color: #00af00\">28</span>, <span style=\"color: #00af00; text-decoration-color: #00af00\">256</span>)    │             <span style=\"color: #00af00; text-decoration-color: #00af00\">0</span> │\n",
       "├─────────────────────────────────┼────────────────────────┼───────────────┤\n",
       "│ block4_conv1 (<span style=\"color: #0087ff; text-decoration-color: #0087ff\">Conv2D</span>)           │ (<span style=\"color: #00d7ff; text-decoration-color: #00d7ff\">None</span>, <span style=\"color: #00af00; text-decoration-color: #00af00\">28</span>, <span style=\"color: #00af00; text-decoration-color: #00af00\">28</span>, <span style=\"color: #00af00; text-decoration-color: #00af00\">512</span>)    │     <span style=\"color: #00af00; text-decoration-color: #00af00\">1,180,160</span> │\n",
       "├─────────────────────────────────┼────────────────────────┼───────────────┤\n",
       "│ block4_conv2 (<span style=\"color: #0087ff; text-decoration-color: #0087ff\">Conv2D</span>)           │ (<span style=\"color: #00d7ff; text-decoration-color: #00d7ff\">None</span>, <span style=\"color: #00af00; text-decoration-color: #00af00\">28</span>, <span style=\"color: #00af00; text-decoration-color: #00af00\">28</span>, <span style=\"color: #00af00; text-decoration-color: #00af00\">512</span>)    │     <span style=\"color: #00af00; text-decoration-color: #00af00\">2,359,808</span> │\n",
       "├─────────────────────────────────┼────────────────────────┼───────────────┤\n",
       "│ block4_conv3 (<span style=\"color: #0087ff; text-decoration-color: #0087ff\">Conv2D</span>)           │ (<span style=\"color: #00d7ff; text-decoration-color: #00d7ff\">None</span>, <span style=\"color: #00af00; text-decoration-color: #00af00\">28</span>, <span style=\"color: #00af00; text-decoration-color: #00af00\">28</span>, <span style=\"color: #00af00; text-decoration-color: #00af00\">512</span>)    │     <span style=\"color: #00af00; text-decoration-color: #00af00\">2,359,808</span> │\n",
       "├─────────────────────────────────┼────────────────────────┼───────────────┤\n",
       "│ block4_pool (<span style=\"color: #0087ff; text-decoration-color: #0087ff\">MaxPooling2D</span>)      │ (<span style=\"color: #00d7ff; text-decoration-color: #00d7ff\">None</span>, <span style=\"color: #00af00; text-decoration-color: #00af00\">14</span>, <span style=\"color: #00af00; text-decoration-color: #00af00\">14</span>, <span style=\"color: #00af00; text-decoration-color: #00af00\">512</span>)    │             <span style=\"color: #00af00; text-decoration-color: #00af00\">0</span> │\n",
       "├─────────────────────────────────┼────────────────────────┼───────────────┤\n",
       "│ block5_conv1 (<span style=\"color: #0087ff; text-decoration-color: #0087ff\">Conv2D</span>)           │ (<span style=\"color: #00d7ff; text-decoration-color: #00d7ff\">None</span>, <span style=\"color: #00af00; text-decoration-color: #00af00\">14</span>, <span style=\"color: #00af00; text-decoration-color: #00af00\">14</span>, <span style=\"color: #00af00; text-decoration-color: #00af00\">512</span>)    │     <span style=\"color: #00af00; text-decoration-color: #00af00\">2,359,808</span> │\n",
       "├─────────────────────────────────┼────────────────────────┼───────────────┤\n",
       "│ block5_conv2 (<span style=\"color: #0087ff; text-decoration-color: #0087ff\">Conv2D</span>)           │ (<span style=\"color: #00d7ff; text-decoration-color: #00d7ff\">None</span>, <span style=\"color: #00af00; text-decoration-color: #00af00\">14</span>, <span style=\"color: #00af00; text-decoration-color: #00af00\">14</span>, <span style=\"color: #00af00; text-decoration-color: #00af00\">512</span>)    │     <span style=\"color: #00af00; text-decoration-color: #00af00\">2,359,808</span> │\n",
       "├─────────────────────────────────┼────────────────────────┼───────────────┤\n",
       "│ block5_conv3 (<span style=\"color: #0087ff; text-decoration-color: #0087ff\">Conv2D</span>)           │ (<span style=\"color: #00d7ff; text-decoration-color: #00d7ff\">None</span>, <span style=\"color: #00af00; text-decoration-color: #00af00\">14</span>, <span style=\"color: #00af00; text-decoration-color: #00af00\">14</span>, <span style=\"color: #00af00; text-decoration-color: #00af00\">512</span>)    │     <span style=\"color: #00af00; text-decoration-color: #00af00\">2,359,808</span> │\n",
       "├─────────────────────────────────┼────────────────────────┼───────────────┤\n",
       "│ block5_pool (<span style=\"color: #0087ff; text-decoration-color: #0087ff\">MaxPooling2D</span>)      │ (<span style=\"color: #00d7ff; text-decoration-color: #00d7ff\">None</span>, <span style=\"color: #00af00; text-decoration-color: #00af00\">7</span>, <span style=\"color: #00af00; text-decoration-color: #00af00\">7</span>, <span style=\"color: #00af00; text-decoration-color: #00af00\">512</span>)      │             <span style=\"color: #00af00; text-decoration-color: #00af00\">0</span> │\n",
       "├─────────────────────────────────┼────────────────────────┼───────────────┤\n",
       "│ flatten (<span style=\"color: #0087ff; text-decoration-color: #0087ff\">Flatten</span>)               │ (<span style=\"color: #00d7ff; text-decoration-color: #00d7ff\">None</span>, <span style=\"color: #00af00; text-decoration-color: #00af00\">25088</span>)          │             <span style=\"color: #00af00; text-decoration-color: #00af00\">0</span> │\n",
       "├─────────────────────────────────┼────────────────────────┼───────────────┤\n",
       "│ dense (<span style=\"color: #0087ff; text-decoration-color: #0087ff\">Dense</span>)                   │ (<span style=\"color: #00d7ff; text-decoration-color: #00d7ff\">None</span>, <span style=\"color: #00af00; text-decoration-color: #00af00\">128</span>)            │     <span style=\"color: #00af00; text-decoration-color: #00af00\">3,211,392</span> │\n",
       "├─────────────────────────────────┼────────────────────────┼───────────────┤\n",
       "│ dropout (<span style=\"color: #0087ff; text-decoration-color: #0087ff\">Dropout</span>)               │ (<span style=\"color: #00d7ff; text-decoration-color: #00d7ff\">None</span>, <span style=\"color: #00af00; text-decoration-color: #00af00\">128</span>)            │             <span style=\"color: #00af00; text-decoration-color: #00af00\">0</span> │\n",
       "├─────────────────────────────────┼────────────────────────┼───────────────┤\n",
       "│ dense_1 (<span style=\"color: #0087ff; text-decoration-color: #0087ff\">Dense</span>)                 │ (<span style=\"color: #00d7ff; text-decoration-color: #00d7ff\">None</span>, <span style=\"color: #00af00; text-decoration-color: #00af00\">10</span>)             │         <span style=\"color: #00af00; text-decoration-color: #00af00\">1,290</span> │\n",
       "└─────────────────────────────────┴────────────────────────┴───────────────┘\n",
       "</pre>\n"
      ],
      "text/plain": [
       "┏━━━━━━━━━━━━━━━━━━━━━━━━━━━━━━━━━┳━━━━━━━━━━━━━━━━━━━━━━━━┳━━━━━━━━━━━━━━━┓\n",
       "┃\u001b[1m \u001b[0m\u001b[1mLayer (type)                   \u001b[0m\u001b[1m \u001b[0m┃\u001b[1m \u001b[0m\u001b[1mOutput Shape          \u001b[0m\u001b[1m \u001b[0m┃\u001b[1m \u001b[0m\u001b[1m      Param #\u001b[0m\u001b[1m \u001b[0m┃\n",
       "┡━━━━━━━━━━━━━━━━━━━━━━━━━━━━━━━━━╇━━━━━━━━━━━━━━━━━━━━━━━━╇━━━━━━━━━━━━━━━┩\n",
       "│ input_layer (\u001b[38;5;33mInputLayer\u001b[0m)        │ (\u001b[38;5;45mNone\u001b[0m, \u001b[38;5;34m224\u001b[0m, \u001b[38;5;34m224\u001b[0m, \u001b[38;5;34m3\u001b[0m)    │             \u001b[38;5;34m0\u001b[0m │\n",
       "├─────────────────────────────────┼────────────────────────┼───────────────┤\n",
       "│ block1_conv1 (\u001b[38;5;33mConv2D\u001b[0m)           │ (\u001b[38;5;45mNone\u001b[0m, \u001b[38;5;34m224\u001b[0m, \u001b[38;5;34m224\u001b[0m, \u001b[38;5;34m64\u001b[0m)   │         \u001b[38;5;34m1,792\u001b[0m │\n",
       "├─────────────────────────────────┼────────────────────────┼───────────────┤\n",
       "│ block1_conv2 (\u001b[38;5;33mConv2D\u001b[0m)           │ (\u001b[38;5;45mNone\u001b[0m, \u001b[38;5;34m224\u001b[0m, \u001b[38;5;34m224\u001b[0m, \u001b[38;5;34m64\u001b[0m)   │        \u001b[38;5;34m36,928\u001b[0m │\n",
       "├─────────────────────────────────┼────────────────────────┼───────────────┤\n",
       "│ block1_pool (\u001b[38;5;33mMaxPooling2D\u001b[0m)      │ (\u001b[38;5;45mNone\u001b[0m, \u001b[38;5;34m112\u001b[0m, \u001b[38;5;34m112\u001b[0m, \u001b[38;5;34m64\u001b[0m)   │             \u001b[38;5;34m0\u001b[0m │\n",
       "├─────────────────────────────────┼────────────────────────┼───────────────┤\n",
       "│ block2_conv1 (\u001b[38;5;33mConv2D\u001b[0m)           │ (\u001b[38;5;45mNone\u001b[0m, \u001b[38;5;34m112\u001b[0m, \u001b[38;5;34m112\u001b[0m, \u001b[38;5;34m128\u001b[0m)  │        \u001b[38;5;34m73,856\u001b[0m │\n",
       "├─────────────────────────────────┼────────────────────────┼───────────────┤\n",
       "│ block2_conv2 (\u001b[38;5;33mConv2D\u001b[0m)           │ (\u001b[38;5;45mNone\u001b[0m, \u001b[38;5;34m112\u001b[0m, \u001b[38;5;34m112\u001b[0m, \u001b[38;5;34m128\u001b[0m)  │       \u001b[38;5;34m147,584\u001b[0m │\n",
       "├─────────────────────────────────┼────────────────────────┼───────────────┤\n",
       "│ block2_pool (\u001b[38;5;33mMaxPooling2D\u001b[0m)      │ (\u001b[38;5;45mNone\u001b[0m, \u001b[38;5;34m56\u001b[0m, \u001b[38;5;34m56\u001b[0m, \u001b[38;5;34m128\u001b[0m)    │             \u001b[38;5;34m0\u001b[0m │\n",
       "├─────────────────────────────────┼────────────────────────┼───────────────┤\n",
       "│ block3_conv1 (\u001b[38;5;33mConv2D\u001b[0m)           │ (\u001b[38;5;45mNone\u001b[0m, \u001b[38;5;34m56\u001b[0m, \u001b[38;5;34m56\u001b[0m, \u001b[38;5;34m256\u001b[0m)    │       \u001b[38;5;34m295,168\u001b[0m │\n",
       "├─────────────────────────────────┼────────────────────────┼───────────────┤\n",
       "│ block3_conv2 (\u001b[38;5;33mConv2D\u001b[0m)           │ (\u001b[38;5;45mNone\u001b[0m, \u001b[38;5;34m56\u001b[0m, \u001b[38;5;34m56\u001b[0m, \u001b[38;5;34m256\u001b[0m)    │       \u001b[38;5;34m590,080\u001b[0m │\n",
       "├─────────────────────────────────┼────────────────────────┼───────────────┤\n",
       "│ block3_conv3 (\u001b[38;5;33mConv2D\u001b[0m)           │ (\u001b[38;5;45mNone\u001b[0m, \u001b[38;5;34m56\u001b[0m, \u001b[38;5;34m56\u001b[0m, \u001b[38;5;34m256\u001b[0m)    │       \u001b[38;5;34m590,080\u001b[0m │\n",
       "├─────────────────────────────────┼────────────────────────┼───────────────┤\n",
       "│ block3_pool (\u001b[38;5;33mMaxPooling2D\u001b[0m)      │ (\u001b[38;5;45mNone\u001b[0m, \u001b[38;5;34m28\u001b[0m, \u001b[38;5;34m28\u001b[0m, \u001b[38;5;34m256\u001b[0m)    │             \u001b[38;5;34m0\u001b[0m │\n",
       "├─────────────────────────────────┼────────────────────────┼───────────────┤\n",
       "│ block4_conv1 (\u001b[38;5;33mConv2D\u001b[0m)           │ (\u001b[38;5;45mNone\u001b[0m, \u001b[38;5;34m28\u001b[0m, \u001b[38;5;34m28\u001b[0m, \u001b[38;5;34m512\u001b[0m)    │     \u001b[38;5;34m1,180,160\u001b[0m │\n",
       "├─────────────────────────────────┼────────────────────────┼───────────────┤\n",
       "│ block4_conv2 (\u001b[38;5;33mConv2D\u001b[0m)           │ (\u001b[38;5;45mNone\u001b[0m, \u001b[38;5;34m28\u001b[0m, \u001b[38;5;34m28\u001b[0m, \u001b[38;5;34m512\u001b[0m)    │     \u001b[38;5;34m2,359,808\u001b[0m │\n",
       "├─────────────────────────────────┼────────────────────────┼───────────────┤\n",
       "│ block4_conv3 (\u001b[38;5;33mConv2D\u001b[0m)           │ (\u001b[38;5;45mNone\u001b[0m, \u001b[38;5;34m28\u001b[0m, \u001b[38;5;34m28\u001b[0m, \u001b[38;5;34m512\u001b[0m)    │     \u001b[38;5;34m2,359,808\u001b[0m │\n",
       "├─────────────────────────────────┼────────────────────────┼───────────────┤\n",
       "│ block4_pool (\u001b[38;5;33mMaxPooling2D\u001b[0m)      │ (\u001b[38;5;45mNone\u001b[0m, \u001b[38;5;34m14\u001b[0m, \u001b[38;5;34m14\u001b[0m, \u001b[38;5;34m512\u001b[0m)    │             \u001b[38;5;34m0\u001b[0m │\n",
       "├─────────────────────────────────┼────────────────────────┼───────────────┤\n",
       "│ block5_conv1 (\u001b[38;5;33mConv2D\u001b[0m)           │ (\u001b[38;5;45mNone\u001b[0m, \u001b[38;5;34m14\u001b[0m, \u001b[38;5;34m14\u001b[0m, \u001b[38;5;34m512\u001b[0m)    │     \u001b[38;5;34m2,359,808\u001b[0m │\n",
       "├─────────────────────────────────┼────────────────────────┼───────────────┤\n",
       "│ block5_conv2 (\u001b[38;5;33mConv2D\u001b[0m)           │ (\u001b[38;5;45mNone\u001b[0m, \u001b[38;5;34m14\u001b[0m, \u001b[38;5;34m14\u001b[0m, \u001b[38;5;34m512\u001b[0m)    │     \u001b[38;5;34m2,359,808\u001b[0m │\n",
       "├─────────────────────────────────┼────────────────────────┼───────────────┤\n",
       "│ block5_conv3 (\u001b[38;5;33mConv2D\u001b[0m)           │ (\u001b[38;5;45mNone\u001b[0m, \u001b[38;5;34m14\u001b[0m, \u001b[38;5;34m14\u001b[0m, \u001b[38;5;34m512\u001b[0m)    │     \u001b[38;5;34m2,359,808\u001b[0m │\n",
       "├─────────────────────────────────┼────────────────────────┼───────────────┤\n",
       "│ block5_pool (\u001b[38;5;33mMaxPooling2D\u001b[0m)      │ (\u001b[38;5;45mNone\u001b[0m, \u001b[38;5;34m7\u001b[0m, \u001b[38;5;34m7\u001b[0m, \u001b[38;5;34m512\u001b[0m)      │             \u001b[38;5;34m0\u001b[0m │\n",
       "├─────────────────────────────────┼────────────────────────┼───────────────┤\n",
       "│ flatten (\u001b[38;5;33mFlatten\u001b[0m)               │ (\u001b[38;5;45mNone\u001b[0m, \u001b[38;5;34m25088\u001b[0m)          │             \u001b[38;5;34m0\u001b[0m │\n",
       "├─────────────────────────────────┼────────────────────────┼───────────────┤\n",
       "│ dense (\u001b[38;5;33mDense\u001b[0m)                   │ (\u001b[38;5;45mNone\u001b[0m, \u001b[38;5;34m128\u001b[0m)            │     \u001b[38;5;34m3,211,392\u001b[0m │\n",
       "├─────────────────────────────────┼────────────────────────┼───────────────┤\n",
       "│ dropout (\u001b[38;5;33mDropout\u001b[0m)               │ (\u001b[38;5;45mNone\u001b[0m, \u001b[38;5;34m128\u001b[0m)            │             \u001b[38;5;34m0\u001b[0m │\n",
       "├─────────────────────────────────┼────────────────────────┼───────────────┤\n",
       "│ dense_1 (\u001b[38;5;33mDense\u001b[0m)                 │ (\u001b[38;5;45mNone\u001b[0m, \u001b[38;5;34m10\u001b[0m)             │         \u001b[38;5;34m1,290\u001b[0m │\n",
       "└─────────────────────────────────┴────────────────────────┴───────────────┘\n"
      ]
     },
     "metadata": {},
     "output_type": "display_data"
    },
    {
     "data": {
      "text/html": [
       "<pre style=\"white-space:pre;overflow-x:auto;line-height:normal;font-family:Menlo,'DejaVu Sans Mono',consolas,'Courier New',monospace\"><span style=\"font-weight: bold\"> Total params: </span><span style=\"color: #00af00; text-decoration-color: #00af00\">17,927,370</span> (68.39 MB)\n",
       "</pre>\n"
      ],
      "text/plain": [
       "\u001b[1m Total params: \u001b[0m\u001b[38;5;34m17,927,370\u001b[0m (68.39 MB)\n"
      ]
     },
     "metadata": {},
     "output_type": "display_data"
    },
    {
     "data": {
      "text/html": [
       "<pre style=\"white-space:pre;overflow-x:auto;line-height:normal;font-family:Menlo,'DejaVu Sans Mono',consolas,'Courier New',monospace\"><span style=\"font-weight: bold\"> Trainable params: </span><span style=\"color: #00af00; text-decoration-color: #00af00\">3,212,682</span> (12.26 MB)\n",
       "</pre>\n"
      ],
      "text/plain": [
       "\u001b[1m Trainable params: \u001b[0m\u001b[38;5;34m3,212,682\u001b[0m (12.26 MB)\n"
      ]
     },
     "metadata": {},
     "output_type": "display_data"
    },
    {
     "data": {
      "text/html": [
       "<pre style=\"white-space:pre;overflow-x:auto;line-height:normal;font-family:Menlo,'DejaVu Sans Mono',consolas,'Courier New',monospace\"><span style=\"font-weight: bold\"> Non-trainable params: </span><span style=\"color: #00af00; text-decoration-color: #00af00\">14,714,688</span> (56.13 MB)\n",
       "</pre>\n"
      ],
      "text/plain": [
       "\u001b[1m Non-trainable params: \u001b[0m\u001b[38;5;34m14,714,688\u001b[0m (56.13 MB)\n"
      ]
     },
     "metadata": {},
     "output_type": "display_data"
    }
   ],
   "source": [
    "model.summary()"
   ]
  },
  {
   "cell_type": "code",
   "execution_count": 17,
   "id": "1a5cc694",
   "metadata": {
    "_cell_guid": "2da02512-4ac0-446f-b7a9-e8d5dff0824a",
    "_uuid": "3bab8ca0-7931-4321-b178-fa9e7f034591",
    "collapsed": false,
    "execution": {
     "iopub.execute_input": "2024-11-30T09:35:11.105615Z",
     "iopub.status.busy": "2024-11-30T09:35:11.104688Z",
     "iopub.status.idle": "2024-11-30T09:35:39.581226Z",
     "shell.execute_reply": "2024-11-30T09:35:39.580153Z"
    },
    "jupyter": {
     "outputs_hidden": false
    },
    "papermill": {
     "duration": 28.556741,
     "end_time": "2024-11-30T09:35:39.582915",
     "exception": false,
     "start_time": "2024-11-30T09:35:11.026174",
     "status": "completed"
    },
    "tags": []
   },
   "outputs": [
    {
     "name": "stdout",
     "output_type": "stream",
     "text": [
      "\u001b[1m150/150\u001b[0m \u001b[32m━━━━━━━━━━━━━━━━━━━━\u001b[0m\u001b[37m\u001b[0m \u001b[1m21s\u001b[0m 136ms/step - accuracy: 0.9954 - loss: 0.0330\n",
      "The model accuracy is : 0.9958333373069763 \n",
      " the model loss : 0.035381682217121124\n"
     ]
    }
   ],
   "source": [
    "loss,accuracy = model.evaluate(X_train,y_train)\n",
    "print(f\"The model accuracy is : {accuracy} \\n the model loss : {loss}\")"
   ]
  },
  {
   "cell_type": "code",
   "execution_count": 18,
   "id": "e0a3105a",
   "metadata": {
    "_cell_guid": "a6b7dbe4-2799-4add-b8a6-b45dae168ddd",
    "_uuid": "04ca4ffc-0f80-4631-9825-f0d44ac45151",
    "collapsed": false,
    "execution": {
     "iopub.execute_input": "2024-11-30T09:35:39.750877Z",
     "iopub.status.busy": "2024-11-30T09:35:39.750498Z",
     "iopub.status.idle": "2024-11-30T09:35:39.980987Z",
     "shell.execute_reply": "2024-11-30T09:35:39.980084Z"
    },
    "jupyter": {
     "outputs_hidden": false
    },
    "papermill": {
     "duration": 0.315897,
     "end_time": "2024-11-30T09:35:39.983087",
     "exception": false,
     "start_time": "2024-11-30T09:35:39.667190",
     "status": "completed"
    },
    "tags": []
   },
   "outputs": [
    {
     "data": {
      "image/png": "[encoded data removed]",
      "text/plain": [
       "<Figure size 640x480 with 1 Axes>"
      ]
     },
     "metadata": {},
     "output_type": "display_data"
    }
   ],
   "source": [
    "plt.plot(history.history['accuracy'],label='Training Accuracy')\n",
    "plt.plot(history.history['val_accuracy'], label = 'Validation Accuracy')\n",
    "plt.xlabel(\"Epochs\")\n",
    "plt.ylabel('Accuracy')\n",
    "plt.legend()\n",
    "plt.show()"
   ]
  },
  {
   "cell_type": "code",
   "execution_count": 19,
   "id": "bf27fd98",
   "metadata": {
    "_cell_guid": "0e153f38-4132-4b89-b4b0-3d1ce4dfb027",
    "_uuid": "253f41d2-5523-418e-b412-135ef16964b7",
    "collapsed": false,
    "execution": {
     "iopub.execute_input": "2024-11-30T09:35:40.151209Z",
     "iopub.status.busy": "2024-11-30T09:35:40.150867Z",
     "iopub.status.idle": "2024-11-30T09:35:40.303618Z",
     "shell.execute_reply": "2024-11-30T09:35:40.302861Z"
    },
    "jupyter": {
     "outputs_hidden": false
    },
    "papermill": {
     "duration": 0.238084,
     "end_time": "2024-11-30T09:35:40.305560",
     "exception": false,
     "start_time": "2024-11-30T09:35:40.067476",
     "status": "completed"
    },
    "tags": []
   },
   "outputs": [
    {
     "data": {
      "image/png": "[encoded data removed]",
      "text/plain": [
       "<Figure size 640x480 with 1 Axes>"
      ]
     },
     "metadata": {},
     "output_type": "display_data"
    }
   ],
   "source": [
    "plt.plot(history.history['loss'],label='Training Loss')\n",
    "plt.plot(history.history['val_loss'],label='Validation Loss')\n",
    "plt.xlabel(\"Epoche\")\n",
    "plt.ylabel(\"Loss\")\n",
    "plt.legend()\n",
    "plt.show()"
   ]
  },
  {
   "cell_type": "code",
   "execution_count": 20,
   "id": "be355b29",
   "metadata": {
    "_cell_guid": "4852c690-1fcd-4c32-aa2a-59741c9fcc5f",
    "_uuid": "b14b9226-6cac-4658-8dbf-b6bae76c4d45",
    "collapsed": false,
    "execution": {
     "iopub.execute_input": "2024-11-30T09:35:40.474982Z",
     "iopub.status.busy": "2024-11-30T09:35:40.474651Z",
     "iopub.status.idle": "2024-11-30T09:35:48.343826Z",
     "shell.execute_reply": "2024-11-30T09:35:48.343088Z"
    },
    "jupyter": {
     "outputs_hidden": false
    },
    "papermill": {
     "duration": 7.955801,
     "end_time": "2024-11-30T09:35:48.345596",
     "exception": false,
     "start_time": "2024-11-30T09:35:40.389795",
     "status": "completed"
    },
    "tags": []
   },
   "outputs": [
    {
     "name": "stdout",
     "output_type": "stream",
     "text": [
      "\u001b[1m38/38\u001b[0m \u001b[32m━━━━━━━━━━━━━━━━━━━━\u001b[0m\u001b[37m\u001b[0m \u001b[1m6s\u001b[0m 149ms/step\n"
     ]
    }
   ],
   "source": [
    "import numpy as np\n",
    "\n",
    "# Predict the class probabilities for the test dataset\n",
    "predictions = model.predict(X_val)\n",
    "\n",
    "# Convert probabilities to class labels\n",
    "predicted_labels = np.argmax(predictions, axis=1)\n",
    "true_labels = np.argmax(y_val, axis=1)  # Convert one-hot to class indices"
   ]
  },
  {
   "cell_type": "code",
   "execution_count": 21,
   "id": "2f252d67",
   "metadata": {
    "_cell_guid": "22a90dd9-82e0-4c24-ac4f-16e1eacc5413",
    "_uuid": "d5692962-3ef7-4d82-af31-c64c827e61af",
    "collapsed": false,
    "execution": {
     "iopub.execute_input": "2024-11-30T09:35:48.567565Z",
     "iopub.status.busy": "2024-11-30T09:35:48.566697Z",
     "iopub.status.idle": "2024-11-30T09:35:48.944198Z",
     "shell.execute_reply": "2024-11-30T09:35:48.943369Z"
    },
    "jupyter": {
     "outputs_hidden": false
    },
    "papermill": {
     "duration": 0.485678,
     "end_time": "2024-11-30T09:35:48.946334",
     "exception": false,
     "start_time": "2024-11-30T09:35:48.460656",
     "status": "completed"
    },
    "tags": []
   },
   "outputs": [],
   "source": [
    "from sklearn.metrics import confusion_matrix\n",
    "import matplotlib.pyplot as plt\n",
    "import seaborn as sns\n",
    "\n",
    "# Generate the confusion matrix\n",
    "true_labels = np.argmax(y_val, axis=1)  # Convert one-hot encoded to class indices\n",
    "predicted_labels = np.argmax(predictions, axis=1)  # Already converting probabilities to class indices\n",
    "from sklearn.metrics import confusion_matrix\n",
    "\n",
    "# Generate confusion matrix\n",
    "conf_matrix = confusion_matrix(true_labels, predicted_labels)"
   ]
  },
  {
   "cell_type": "code",
   "execution_count": 22,
   "id": "427cb732",
   "metadata": {
    "_cell_guid": "6f26394f-e556-4989-ba43-9aa98936bec8",
    "_uuid": "04ea6bc1-15c1-40e6-ab7a-d18ea6278a09",
    "collapsed": false,
    "execution": {
     "iopub.execute_input": "2024-11-30T09:35:49.126107Z",
     "iopub.status.busy": "2024-11-30T09:35:49.125543Z",
     "iopub.status.idle": "2024-11-30T09:35:49.607000Z",
     "shell.execute_reply": "2024-11-30T09:35:49.606052Z"
    },
    "jupyter": {
     "outputs_hidden": false
    },
    "papermill": {
     "duration": 0.569429,
     "end_time": "2024-11-30T09:35:49.608839",
     "exception": false,
     "start_time": "2024-11-30T09:35:49.039410",
     "status": "completed"
    },
    "tags": []
   },
   "outputs": [
    {
     "data": {
      "image/png": "[encoded data removed]",
      "text/plain": [
       "<Figure size 1000x800 with 2 Axes>"
      ]
     },
     "metadata": {},
     "output_type": "display_data"
    }
   ],
   "source": [
    "# Plot the confusion matrix\n",
    "plt.figure(figsize=(10, 8))\n",
    "sns.heatmap(conf_matrix, annot=True, fmt='d', cmap='Blues', xticklabels=range(10), yticklabels=range(10))\n",
    "plt.xlabel('Predicted Labels')\n",
    "plt.ylabel('True Labels')\n",
    "plt.title('Confusion Matrix')\n",
    "plt.show()"
   ]
  },
  {
   "cell_type": "code",
   "execution_count": 23,
   "id": "08dbb84a",
   "metadata": {
    "_cell_guid": "5a039a86-994c-4d4c-8e99-0f5c47d30962",
    "_uuid": "bbafc6d2-f27b-43fe-beb9-76bdd3a81d43",
    "collapsed": false,
    "execution": {
     "iopub.execute_input": "2024-11-30T09:35:49.787490Z",
     "iopub.status.busy": "2024-11-30T09:35:49.786895Z",
     "iopub.status.idle": "2024-11-30T09:35:49.801337Z",
     "shell.execute_reply": "2024-11-30T09:35:49.800541Z"
    },
    "jupyter": {
     "outputs_hidden": false
    },
    "papermill": {
     "duration": 0.104487,
     "end_time": "2024-11-30T09:35:49.802881",
     "exception": false,
     "start_time": "2024-11-30T09:35:49.698394",
     "status": "completed"
    },
    "tags": []
   },
   "outputs": [
    {
     "name": "stdout",
     "output_type": "stream",
     "text": [
      "Rapport de classification :\n",
      "              precision    recall  f1-score   support\n",
      "\n",
      "           0       0.98      1.00      0.99       108\n",
      "           1       0.99      0.99      0.99       134\n",
      "           2       0.97      0.97      0.97       115\n",
      "           3       0.98      0.98      0.98       127\n",
      "           4       1.00      0.97      0.98       119\n",
      "           5       1.00      0.94      0.97        97\n",
      "           6       0.97      1.00      0.98       119\n",
      "           7       0.97      0.99      0.98       142\n",
      "           8       0.96      0.99      0.98       111\n",
      "           9       0.98      0.97      0.98       128\n",
      "\n",
      "    accuracy                           0.98      1200\n",
      "   macro avg       0.98      0.98      0.98      1200\n",
      "weighted avg       0.98      0.98      0.98      1200\n",
      "\n"
     ]
    }
   ],
   "source": [
    "from sklearn.metrics import classification_report\n",
    "\n",
    "# Générer le rapport de classification\n",
    "report = classification_report(\n",
    "    true_labels, \n",
    "    predicted_labels, \n",
    "    target_names=[str(i) for i in range(10)]\n",
    ")\n",
    "print(\"Rapport de classification :\")\n",
    "print(report)"
   ]
  }
 ],
 "metadata": {
  "kaggle": {
   "accelerator": "nvidiaTeslaT4",
   "dataSources": [
    {
     "datasetId": 102285,
     "sourceId": 242592,
     "sourceType": "datasetVersion"
    }
   ],
   "dockerImageVersionId": 30762,
   "isGpuEnabled": true,
   "isInternetEnabled": true,
   "language": "python",
   "sourceType": "notebook"
  },
  "kernelspec": {
   "display_name": "Python 3",
   "language": "python",
   "name": "python3"
  },
  "language_info": {
   "codemirror_mode": {
    "name": "ipython",
    "version": 3
   },
   "file_extension": ".py",
   "mimetype": "text/x-python",
   "name": "python",
   "nbconvert_exporter": "python",
   "pygments_lexer": "ipython3",
   "version": "3.10.14"
  },
  "papermill": {
   "default_parameters": {},
   "duration": 358.813247,
   "end_time": "2024-11-30T09:35:52.346132",
   "environment_variables": {},
   "exception": null,
   "input_path": "__notebook__.ipynb",
   "output_path": "__notebook__.ipynb",
   "parameters": {},
   "start_time": "2024-11-30T09:29:53.532885",
   "version": "2.6.0"
  }
 },
 "nbformat": 4,
 "nbformat_minor": 5
}
